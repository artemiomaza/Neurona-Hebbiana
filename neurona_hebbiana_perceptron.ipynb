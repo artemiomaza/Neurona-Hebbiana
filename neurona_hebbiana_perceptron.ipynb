{
 "cells": [
  {
   "attachments": {},
   "cell_type": "markdown",
   "metadata": {},
   "source": [
    "# Neurona Hebbiana"
   ]
  },
  {
   "attachments": {},
   "cell_type": "markdown",
   "metadata": {},
   "source": [
    "#### Previamente a la aplicación de la neurona, se debe llevar a cabo un proceso de entrenamiento, para obtener los resultados adecuados. \n",
    "#### Para el entrenamiento, se requiere contar con un patrón de entrada con su correspondiente salida. \n",
    "#### Como ejemplo, la implementación de la compuerta AND, dado que se utiliza como ejemplo en la mayoría de literatura relacionada con la implementación de redes neuronales. \n",
    "3\n",
    "### El patrón de entrenamiento es el comportamiento de una compuerta AND. El propósito es que, de acuerdo con las entradas, se obtenga a la salida el comportamiento de una compuerta AND lógica. El valor VERDADERO se representa con un 1, y el valor FALSO se representa con un -1."
   ]
  },
  {
   "cell_type": "code",
   "execution_count": 1,
   "metadata": {},
   "outputs": [],
   "source": [
    "import pandas as pd\n",
    "df = pd.DataFrame()"
   ]
  },
  {
   "cell_type": "code",
   "execution_count": 2,
   "metadata": {},
   "outputs": [
    {
     "name": "stdout",
     "output_type": "stream",
     "text": [
      "Tabla de valores correspondiente a la compuerta AND\n"
     ]
    },
    {
     "data": {
      "text/html": [
       "<div>\n",
       "<style scoped>\n",
       "    .dataframe tbody tr th:only-of-type {\n",
       "        vertical-align: middle;\n",
       "    }\n",
       "\n",
       "    .dataframe tbody tr th {\n",
       "        vertical-align: top;\n",
       "    }\n",
       "\n",
       "    .dataframe thead th {\n",
       "        text-align: right;\n",
       "    }\n",
       "</style>\n",
       "<table border=\"1\" class=\"dataframe\">\n",
       "  <thead>\n",
       "    <tr style=\"text-align: right;\">\n",
       "      <th></th>\n",
       "      <th>x1</th>\n",
       "      <th>x2</th>\n",
       "      <th>Y</th>\n",
       "    </tr>\n",
       "  </thead>\n",
       "  <tbody>\n",
       "    <tr>\n",
       "      <th>0</th>\n",
       "      <td>-1</td>\n",
       "      <td>-1</td>\n",
       "      <td>-1</td>\n",
       "    </tr>\n",
       "    <tr>\n",
       "      <th>1</th>\n",
       "      <td>-1</td>\n",
       "      <td>1</td>\n",
       "      <td>-1</td>\n",
       "    </tr>\n",
       "    <tr>\n",
       "      <th>2</th>\n",
       "      <td>1</td>\n",
       "      <td>-1</td>\n",
       "      <td>-1</td>\n",
       "    </tr>\n",
       "    <tr>\n",
       "      <th>3</th>\n",
       "      <td>1</td>\n",
       "      <td>1</td>\n",
       "      <td>1</td>\n",
       "    </tr>\n",
       "  </tbody>\n",
       "</table>\n",
       "</div>"
      ],
      "text/plain": [
       "   x1  x2  Y\n",
       "0  -1  -1 -1\n",
       "1  -1   1 -1\n",
       "2   1  -1 -1\n",
       "3   1   1  1"
      ]
     },
     "execution_count": 2,
     "metadata": {},
     "output_type": "execute_result"
    }
   ],
   "source": [
    "df['x1'] = [-1,-1,1,1]\n",
    "df['x2'] = [-1,1,-1,1]\n",
    "df['Y'] = [-1,-1,-1,1]\n",
    "print('Tabla de valores correspondiente a la compuerta AND')\n",
    "df"
   ]
  },
  {
   "attachments": {},
   "cell_type": "markdown",
   "metadata": {},
   "source": [
    "## VALORES EN X"
   ]
  },
  {
   "cell_type": "code",
   "execution_count": 3,
   "metadata": {},
   "outputs": [],
   "source": [
    "x_general = [-1,-1],[-1,1],[1,-1],[1,1]\n",
    "y_general = [-1,-1,-1,1]"
   ]
  },
  {
   "attachments": {},
   "cell_type": "markdown",
   "metadata": {},
   "source": [
    "ECUACIONES DE ENTRENAMIENTO"
   ]
  },
  {
   "attachments": {},
   "cell_type": "markdown",
   "metadata": {},
   "source": [
    "# $ w_{i+1,k}= w_{i,k} + y_{i}x_{i,k} $"
   ]
  },
  {
   "attachments": {},
   "cell_type": "markdown",
   "metadata": {},
   "source": [
    "# $ b_{i+1}= b_{i} + y_{i} $"
   ]
  },
  {
   "cell_type": "code",
   "execution_count": 4,
   "metadata": {},
   "outputs": [],
   "source": [
    "# Se crean listas para guardar los valores y ser mostrados en una tabla\n",
    "\n",
    "list_w_propuesto = []\n",
    "list_b_propuesto = []\n",
    "\n",
    "list_w_entrenamiento = []\n",
    "list_b_entrenamiento = []"
   ]
  },
  {
   "cell_type": "code",
   "execution_count": 5,
   "metadata": {},
   "outputs": [],
   "source": [
    "weigth = (0,0)\n",
    "bias = 1\n",
    "\n",
    "for t in range(0,len(x_general)):\n",
    "    \n",
    "    # --- Se guardan los valores\n",
    "    list_w_propuesto.append(weigth)\n",
    "    list_b_propuesto.append(bias)\n",
    "    \n",
    "    # --- Entrenamiento pesos\n",
    "    x1 = x_general[t][0]\n",
    "    x2 = x_general[t][1]\n",
    "    y = y_general[t]\n",
    "    \n",
    "    w1 = weigth[0] + y*x1\n",
    "    w2 = weigth[1] + y*x2\n",
    "    \n",
    "    weigth = (w1,w2)\n",
    "    \n",
    "    # --- Entrenamiento bias\n",
    "    bias += y\n",
    "    \n",
    "    # --- Se guardan los valores\n",
    "    list_w_entrenamiento.append(weigth)\n",
    "    list_b_entrenamiento.append(bias)"
   ]
  },
  {
   "attachments": {},
   "cell_type": "markdown",
   "metadata": {},
   "source": [
    "RESULTADO DEL ENTRENAMIENTO"
   ]
  },
  {
   "cell_type": "code",
   "execution_count": 6,
   "metadata": {},
   "outputs": [
    {
     "name": "stdout",
     "output_type": "stream",
     "text": [
      "Resultado de los pesos:  (2, 2)\n",
      "Resultado del bias:  -1\n"
     ]
    }
   ],
   "source": [
    "print('Resultado de los pesos: ',weigth)\n",
    "print('Resultado del bias: ',bias)"
   ]
  },
  {
   "attachments": {},
   "cell_type": "markdown",
   "metadata": {},
   "source": [
    "### FUNCIONES DE SALIDA"
   ]
  },
  {
   "attachments": {},
   "cell_type": "markdown",
   "metadata": {},
   "source": [
    "# $ I= b + \\sum_{k=0}^{n-1} w_{k}x_{k}     $"
   ]
  },
  {
   "cell_type": "code",
   "execution_count": 7,
   "metadata": {},
   "outputs": [
    {
     "name": "stdout",
     "output_type": "stream",
     "text": [
      "[-5, -1, -1, 3]\n"
     ]
    }
   ],
   "source": [
    "I_list = []\n",
    "for X in x_general:\n",
    "    r = list(i*j for (i,j) in zip(X,weigth))\n",
    "    I = bias + sum(r)\n",
    "    I_list.append(I)\n",
    "print(I_list)\n",
    "         "
   ]
  },
  {
   "attachments": {},
   "cell_type": "markdown",
   "metadata": {},
   "source": [
    "COMPROBACIÓN DEL ENTRENAMIENTO"
   ]
  },
  {
   "attachments": {},
   "cell_type": "markdown",
   "metadata": {},
   "source": [
    "### $ I \\geq 0 \\to y = 1  //  I < 0 \\to y = -1 $"
   ]
  },
  {
   "cell_type": "code",
   "execution_count": 8,
   "metadata": {},
   "outputs": [
    {
     "name": "stdout",
     "output_type": "stream",
     "text": [
      "[-1, -1, -1, 1]\n"
     ]
    }
   ],
   "source": [
    "y_list = []\n",
    "for I in I_list:\n",
    "    if I >= 0:\n",
    "        y_list.append(1)\n",
    "    else:\n",
    "        y_list.append(-1)\n",
    "\n",
    "print(y_list)"
   ]
  },
  {
   "cell_type": "code",
   "execution_count": 9,
   "metadata": {},
   "outputs": [
    {
     "name": "stdout",
     "output_type": "stream",
     "text": [
      "Tabla de resultados: \n"
     ]
    },
    {
     "data": {
      "text/html": [
       "<div>\n",
       "<style scoped>\n",
       "    .dataframe tbody tr th:only-of-type {\n",
       "        vertical-align: middle;\n",
       "    }\n",
       "\n",
       "    .dataframe tbody tr th {\n",
       "        vertical-align: top;\n",
       "    }\n",
       "\n",
       "    .dataframe thead th {\n",
       "        text-align: right;\n",
       "    }\n",
       "</style>\n",
       "<table border=\"1\" class=\"dataframe\">\n",
       "  <thead>\n",
       "    <tr style=\"text-align: right;\">\n",
       "      <th></th>\n",
       "      <th>x1</th>\n",
       "      <th>x2</th>\n",
       "      <th>Y</th>\n",
       "      <th>w1,w2</th>\n",
       "      <th>bi</th>\n",
       "      <th>w1+1,w2+1</th>\n",
       "      <th>bi+1</th>\n",
       "      <th>Hebbiana</th>\n",
       "    </tr>\n",
       "  </thead>\n",
       "  <tbody>\n",
       "    <tr>\n",
       "      <th>0</th>\n",
       "      <td>-1</td>\n",
       "      <td>-1</td>\n",
       "      <td>-1</td>\n",
       "      <td>(0, 0)</td>\n",
       "      <td>1</td>\n",
       "      <td>(1, 1)</td>\n",
       "      <td>0</td>\n",
       "      <td>-1</td>\n",
       "    </tr>\n",
       "    <tr>\n",
       "      <th>1</th>\n",
       "      <td>-1</td>\n",
       "      <td>1</td>\n",
       "      <td>-1</td>\n",
       "      <td>(1, 1)</td>\n",
       "      <td>0</td>\n",
       "      <td>(2, 0)</td>\n",
       "      <td>-1</td>\n",
       "      <td>-1</td>\n",
       "    </tr>\n",
       "    <tr>\n",
       "      <th>2</th>\n",
       "      <td>1</td>\n",
       "      <td>-1</td>\n",
       "      <td>-1</td>\n",
       "      <td>(2, 0)</td>\n",
       "      <td>-1</td>\n",
       "      <td>(1, 1)</td>\n",
       "      <td>-2</td>\n",
       "      <td>-1</td>\n",
       "    </tr>\n",
       "    <tr>\n",
       "      <th>3</th>\n",
       "      <td>1</td>\n",
       "      <td>1</td>\n",
       "      <td>1</td>\n",
       "      <td>(1, 1)</td>\n",
       "      <td>-2</td>\n",
       "      <td>(2, 2)</td>\n",
       "      <td>-1</td>\n",
       "      <td>1</td>\n",
       "    </tr>\n",
       "  </tbody>\n",
       "</table>\n",
       "</div>"
      ],
      "text/plain": [
       "   x1  x2  Y   w1,w2  bi w1+1,w2+1  bi+1  Hebbiana\n",
       "0  -1  -1 -1  (0, 0)   1    (1, 1)     0        -1\n",
       "1  -1   1 -1  (1, 1)   0    (2, 0)    -1        -1\n",
       "2   1  -1 -1  (2, 0)  -1    (1, 1)    -2        -1\n",
       "3   1   1  1  (1, 1)  -2    (2, 2)    -1         1"
      ]
     },
     "execution_count": 9,
     "metadata": {},
     "output_type": "execute_result"
    }
   ],
   "source": [
    "df['w1,w2'] = list_w_propuesto\n",
    "df['bi'] = list_b_propuesto\n",
    "\n",
    "df['w1+1,w2+1'] = list_w_entrenamiento\n",
    "df['bi+1'] = list_b_entrenamiento\n",
    "df['Hebbiana'] = y_list\n",
    "\n",
    "print('Tabla de resultados: ')\n",
    "df"
   ]
  },
  {
   "attachments": {},
   "cell_type": "markdown",
   "metadata": {},
   "source": [
    "# Neurona perceptrón"
   ]
  },
  {
   "attachments": {},
   "cell_type": "markdown",
   "metadata": {},
   "source": [
    "### $ I= \\sum_{k=0}^{n-1} w_{k}x_{k}     $\n",
    "\n",
    "### $ I > 0 \\to y = 1  //  I <= 0 \\to y = -1 $\n",
    "# $ w_{i+1,k}= w_{i,k} + \\beta y_{i}x_{i,k} $\n",
    "# $ \\beta$= 1 sí la respuesta es correcta || $\\beta = -1$ sí la respuesta es incorrecta "
   ]
  },
  {
   "attachments": {},
   "cell_type": "markdown",
   "metadata": {},
   "source": [
    "### Se entrenara este nuevo modelo de neurona con la compuerta AND"
   ]
  },
  {
   "cell_type": "code",
   "execution_count": 10,
   "metadata": {},
   "outputs": [],
   "source": []
  },
  {
   "cell_type": "code",
   "execution_count": 14,
   "metadata": {},
   "outputs": [],
   "source": [
    "weigth=[0,0]\n",
    "bias = 0\n",
    "\n",
    "list_I = []\n",
    "list_y = []\n",
    "list_bias = []\n",
    "list_weigth = []\n",
    "\n",
    "\n",
    "for t in range(0,len(x_general)):\n",
    "    I = sum(list(i*j for (i,j) in zip(x_general[t],weigth)))\n",
    "    \n",
    "    if I > 0:\n",
    "        y = 1\n",
    "    else:\n",
    "        y = -1\n",
    "    if y == y_general[t]:\n",
    "        bias = 1\n",
    "    else:\n",
    "        bias = -1\n",
    "        \n",
    "        \n",
    "    w1 = weigth[0] + bias*y*x_general[t][0]\n",
    "    w2 = weigth[1] + bias*y*x_general[t][1]\n",
    "    weigth = (w1,w2)\n",
    "    \n",
    "    list_I.append(I)\n",
    "    list_y.append(y)\n",
    "    list_bias.append(bias)\n",
    "    list_weigth.append(weigth)\n",
    "    weigth\n",
    "    \n",
    "\n",
    "    \n",
    "    "
   ]
  },
  {
   "cell_type": "code",
   "execution_count": 15,
   "metadata": {},
   "outputs": [],
   "source": [
    "tabla = pd.DataFrame()\n",
    "\n",
    "tabla['x1'] = [-1,-1,1,1]\n",
    "tabla['x2'] = [-1,1,-1,1]\n",
    "tabla['Y'] = [-1,-1,-1,1]\n",
    "tabla['I'] = list_I\n",
    "tabla['y'] = list_y\n",
    "tabla['b'] = list_bias\n",
    "tabla['w'] = list_weigth\n"
   ]
  },
  {
   "cell_type": "code",
   "execution_count": 16,
   "metadata": {},
   "outputs": [
    {
     "data": {
      "text/html": [
       "<div>\n",
       "<style scoped>\n",
       "    .dataframe tbody tr th:only-of-type {\n",
       "        vertical-align: middle;\n",
       "    }\n",
       "\n",
       "    .dataframe tbody tr th {\n",
       "        vertical-align: top;\n",
       "    }\n",
       "\n",
       "    .dataframe thead th {\n",
       "        text-align: right;\n",
       "    }\n",
       "</style>\n",
       "<table border=\"1\" class=\"dataframe\">\n",
       "  <thead>\n",
       "    <tr style=\"text-align: right;\">\n",
       "      <th></th>\n",
       "      <th>x1</th>\n",
       "      <th>x2</th>\n",
       "      <th>Y</th>\n",
       "      <th>I</th>\n",
       "      <th>y</th>\n",
       "      <th>b</th>\n",
       "      <th>w</th>\n",
       "    </tr>\n",
       "  </thead>\n",
       "  <tbody>\n",
       "    <tr>\n",
       "      <th>0</th>\n",
       "      <td>-1</td>\n",
       "      <td>-1</td>\n",
       "      <td>-1</td>\n",
       "      <td>0</td>\n",
       "      <td>-1</td>\n",
       "      <td>1</td>\n",
       "      <td>(1, 1)</td>\n",
       "    </tr>\n",
       "    <tr>\n",
       "      <th>1</th>\n",
       "      <td>-1</td>\n",
       "      <td>1</td>\n",
       "      <td>-1</td>\n",
       "      <td>0</td>\n",
       "      <td>-1</td>\n",
       "      <td>1</td>\n",
       "      <td>(2, 0)</td>\n",
       "    </tr>\n",
       "    <tr>\n",
       "      <th>2</th>\n",
       "      <td>1</td>\n",
       "      <td>-1</td>\n",
       "      <td>-1</td>\n",
       "      <td>2</td>\n",
       "      <td>1</td>\n",
       "      <td>-1</td>\n",
       "      <td>(1, 1)</td>\n",
       "    </tr>\n",
       "    <tr>\n",
       "      <th>3</th>\n",
       "      <td>1</td>\n",
       "      <td>1</td>\n",
       "      <td>1</td>\n",
       "      <td>2</td>\n",
       "      <td>1</td>\n",
       "      <td>1</td>\n",
       "      <td>(2, 2)</td>\n",
       "    </tr>\n",
       "  </tbody>\n",
       "</table>\n",
       "</div>"
      ],
      "text/plain": [
       "   x1  x2  Y  I  y  b       w\n",
       "0  -1  -1 -1  0 -1  1  (1, 1)\n",
       "1  -1   1 -1  0 -1  1  (2, 0)\n",
       "2   1  -1 -1  2  1 -1  (1, 1)\n",
       "3   1   1  1  2  1  1  (2, 2)"
      ]
     },
     "execution_count": 16,
     "metadata": {},
     "output_type": "execute_result"
    }
   ],
   "source": [
    "tabla"
   ]
  }
 ],
 "metadata": {
  "kernelspec": {
   "display_name": "Python 3",
   "language": "python",
   "name": "python3"
  },
  "language_info": {
   "codemirror_mode": {
    "name": "ipython",
    "version": 3
   },
   "file_extension": ".py",
   "mimetype": "text/x-python",
   "name": "python",
   "nbconvert_exporter": "python",
   "pygments_lexer": "ipython3",
   "version": "3.11.3"
  },
  "orig_nbformat": 4
 },
 "nbformat": 4,
 "nbformat_minor": 2
}
